{
 "cells": [
  {
   "cell_type": "code",
   "execution_count": 1,
   "metadata": {},
   "outputs": [],
   "source": [
    "import numpy as np\n",
    "\n",
    "centre = (np.float64(0.4511630102430555), np.float64(0.38399840269097224))\n",
    "\n",
    "start_image_range = 3.0\n",
    "target_image_range = 1.5798611111284e-06\n",
    "image_count = 200\n",
    "video_fps = 15\n",
    "\n",
    "image_ranges = np.geomspace(start_image_range, target_image_range, image_count)\n",
    "\n",
    "pixels = 1000\n",
    "\n",
    "def create_input(centre, image_range, pixels):\n",
    "    xmin = np.float64(centre[0] - (image_range / 2))\n",
    "    xmax = np.float64(centre[0] + (image_range / 2))\n",
    "    ymin = np.float64(centre[1] - (image_range / 2))\n",
    "    ymax = np.float64(centre[1] + (image_range / 2))\n",
    "\n",
    "    # Creates 2 lists containing regularly spaced values, number of points = pixel count\n",
    "    r1 = np.linspace(xmin, xmax, pixels, dtype=np.float64)\n",
    "    r2 = np.linspace(ymin, ymax, pixels, dtype=np.float64)\n",
    "\n",
    "    complex_array = r1 + r2[:,None]*1j # ,None creates a new axis in the matrix\n",
    "    return np.ravel(complex_array)"
   ]
  },
  {
   "cell_type": "code",
   "execution_count": 2,
   "metadata": {},
   "outputs": [],
   "source": [
    "step_count = 20\n",
    "\n",
    "r_channel = np.array([0,225,225,210,210,0])\n",
    "g_channel = np.array([0,30,127,210,210,0])\n",
    "b_channel = np.array([0,30,30,30,210,0])\n",
    "\n",
    "def interp_channel(channel, step_count):\n",
    "    \"\"\"Interpolates between sequential items by number of steps, count == step_count * items in list\"\"\"\n",
    "    return np.concatenate([np.linspace(start, end, step_count, endpoint=False, dtype=np.uint8) for start, end in zip(channel, channel[1:])])\n",
    "\n",
    "r_channel_interp = interp_channel(r_channel, step_count)\n",
    "g_channel_interp = interp_channel(g_channel, step_count)\n",
    "b_channel_interp = interp_channel(b_channel, step_count)\n",
    "\n",
    "colour_count = np.uint32(len(r_channel_interp))"
   ]
  },
  {
   "cell_type": "code",
   "execution_count": 3,
   "metadata": {},
   "outputs": [],
   "source": [
    "import sys\n",
    "#!conda install --yes --prefix {sys.prefix} -c conda-forge pyopencl\n",
    "#!conda install --yes --prefix {sys.prefix} -c conda-forge progressbar2\n",
    "#!conda install --yes --prefix {sys.prefix} -c conda-forge imageio"
   ]
  },
  {
   "cell_type": "code",
   "execution_count": 4,
   "metadata": {},
   "outputs": [],
   "source": [
    "algorithm = \"\"\"\n",
    "            #pragma OPENCL EXTENSION cl_khr_fp64 : enable\n",
    "            __kernel void mandelbrot(\n",
    "                __global double2 *input, \n",
    "                __global uchar4 *output, \n",
    "                uint const maxiter, \n",
    "                __constant uchar *r_channel, \n",
    "                __constant uchar *g_channel, \n",
    "                __constant uchar *b_channel, \n",
    "                uint colourCount)\n",
    "            {\n",
    "                int gid = get_global_id(0);\n",
    "                double tempReal, real = 0;\n",
    "                double imag = 0;\n",
    "                output[gid] = 0;\n",
    "                output[gid].w = 255;\n",
    "                for(uint curiter = 0; curiter < maxiter; curiter++) \n",
    "                {\n",
    "                    tempReal = real*real - imag*imag + input[gid].x;\n",
    "                    imag = 2 * real*imag + input[gid].y;\n",
    "                    real = tempReal;\n",
    "                    if (real*real + imag*imag > 4.0f)\n",
    "                    {\n",
    "                        uint idx = curiter % colourCount;\n",
    "                        output[gid].x = r_channel[idx];\n",
    "                        output[gid].y = g_channel[idx];\n",
    "                        output[gid].z = b_channel[idx];\n",
    "                        break;\n",
    "                    }\n",
    "                }\n",
    "            }\n",
    "            \"\"\"\n",
    "import pyopencl as cl\n",
    "import pyopencl.array as cl_array\n",
    "\n",
    "ctx = cl.create_some_context(interactive=False)\n",
    " \n",
    "kernel = cl.Program(ctx, algorithm).build()"
   ]
  },
  {
   "cell_type": "code",
   "execution_count": null,
   "metadata": {},
   "outputs": [],
   "source": [
    "import IPython\n",
    "from PIL import Image\n",
    "import progressbar\n",
    "\n",
    "queue = cl.CommandQueue(ctx)\n",
    "\n",
    "mf = cl.mem_flags\n",
    "\n",
    "iterations = np.uint32(1500)\n",
    "\n",
    "r_buffer = cl.Buffer(ctx, mf.READ_ONLY | mf.COPY_HOST_PTR, hostbuf=r_channel_interp)\n",
    "g_buffer = cl.Buffer(ctx, mf.READ_ONLY | mf.COPY_HOST_PTR, hostbuf=g_channel_interp)\n",
    "b_buffer = cl.Buffer(ctx, mf.READ_ONLY | mf.COPY_HOST_PTR, hostbuf=b_channel_interp)\n",
    "\n",
    "images = []\n",
    "\n",
    "for i, image_range in progressbar.progressbar(enumerate(image_ranges)):\n",
    "    complex_array = create_input(centre, image_range, pixels)\n",
    "    input_buffer = cl.Buffer(ctx, mf.READ_ONLY | mf.COPY_HOST_PTR, hostbuf=complex_array)\n",
    "    cl_output = np.zeros((complex_array.shape[0], 4), dtype=np.uint8)\n",
    "    output_buffer = cl.Buffer(ctx, mf.WRITE_ONLY, cl_output.nbytes)\n",
    "    \n",
    "    kernel.mandelbrot(queue, cl_output.shape, None, input_buffer, output_buffer, iterations, r_buffer, g_buffer, b_buffer, colour_count)\n",
    "    \n",
    "    cl.enqueue_copy(queue, cl_output, output_buffer).wait()\n",
    "    images.append(cl_output.reshape((int(pixels), int(pixels), 4)))\n",
    "    "
   ]
  },
  {
   "cell_type": "code",
   "execution_count": null,
   "metadata": {},
   "outputs": [],
   "source": [
    "import os\n",
    "import imageio\n",
    "\n",
    "writer = imageio.get_writer('video.mp4', fps=video_fps)\n",
    "\n",
    "for im in images:\n",
    "    writer.append_data(im)\n",
    "for _ in range(video_fps * 2):\n",
    "    writer.append_data(images[-1])\n",
    "writer.close()"
   ]
  },
  {
   "cell_type": "code",
   "execution_count": null,
   "metadata": {},
   "outputs": [],
   "source": [
    "from IPython.display import Video\n",
    "Video('video.mp4')"
   ]
  },
  {
   "cell_type": "code",
   "execution_count": null,
   "metadata": {},
   "outputs": [],
   "source": []
  }
 ],
 "metadata": {
  "kernelspec": {
   "display_name": "Python 3",
   "language": "python",
   "name": "python3"
  },
  "language_info": {
   "codemirror_mode": {
    "name": "ipython",
    "version": 3
   },
   "file_extension": ".py",
   "mimetype": "text/x-python",
   "name": "python",
   "nbconvert_exporter": "python",
   "pygments_lexer": "ipython3",
   "version": "3.7.6"
  }
 },
 "nbformat": 4,
 "nbformat_minor": 4
}
